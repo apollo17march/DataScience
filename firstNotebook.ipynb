{
 "cells": [
  {
   "cell_type": "code",
   "execution_count": 10,
   "metadata": {
    "collapsed": false
   },
   "outputs": [
    {
     "name": "stdout",
     "output_type": "stream",
     "text": [
      "hell\n"
     ]
    }
   ],
   "source": [
    "print(\"hell\")\n",
    "\n"
   ]
  },
  {
   "cell_type": "code",
   "execution_count": 11,
   "metadata": {
    "collapsed": false
   },
   "outputs": [
    {
     "ename": "SyntaxError",
     "evalue": "invalid syntax (<ipython-input-11-c652c757a14d>, line 1)",
     "output_type": "error",
     "traceback": [
      "\u001b[1;36m  File \u001b[1;32m\"<ipython-input-11-c652c757a14d>\"\u001b[1;36m, line \u001b[1;32m1\u001b[0m\n\u001b[1;33m    improt requests\u001b[0m\n\u001b[1;37m                  ^\u001b[0m\n\u001b[1;31mSyntaxError\u001b[0m\u001b[1;31m:\u001b[0m invalid syntax\n"
     ]
    }
   ],
   "source": [
    "improt requests"
   ]
  },
  {
   "cell_type": "code",
   "execution_count": 13,
   "metadata": {
    "collapsed": true
   },
   "outputs": [],
   "source": [
    "import requests\n"
   ]
  },
  {
   "cell_type": "code",
   "execution_count": 14,
   "metadata": {
    "collapsed": false
   },
   "outputs": [
    {
     "ename": "NameError",
     "evalue": "name 'request' is not defined",
     "output_type": "error",
     "traceback": [
      "\u001b[1;31m---------------------------------------------------------------------------\u001b[0m",
      "\u001b[1;31mNameError\u001b[0m                                 Traceback (most recent call last)",
      "\u001b[1;32m<ipython-input-14-350ffd8642c6>\u001b[0m in \u001b[0;36m<module>\u001b[1;34m()\u001b[0m\n\u001b[1;32m----> 1\u001b[1;33m \u001b[0ma\u001b[0m\u001b[1;33m=\u001b[0m\u001b[0mrequest\u001b[0m\u001b[1;33m.\u001b[0m\u001b[0mget\u001b[0m\u001b[1;33m(\u001b[0m\u001b[1;34m\"http://apollo17march.github.io/\"\u001b[0m\u001b[1;33m)\u001b[0m\u001b[1;33m\u001b[0m\u001b[0m\n\u001b[0m",
      "\u001b[1;31mNameError\u001b[0m: name 'request' is not defined"
     ]
    }
   ],
   "source": [
    "a=request.get(\"http://apollo17march.github.io/\")\n"
   ]
  },
  {
   "cell_type": "code",
   "execution_count": 15,
   "metadata": {
    "collapsed": true
   },
   "outputs": [],
   "source": [
    "a=requests.get(\"http://apollo17march.github.io/\")"
   ]
  },
  {
   "cell_type": "code",
   "execution_count": 16,
   "metadata": {
    "collapsed": false
   },
   "outputs": [
    {
     "data": {
      "text/plain": [
       "<Response [200]>"
      ]
     },
     "execution_count": 16,
     "metadata": {},
     "output_type": "execute_result"
    }
   ],
   "source": [
    "a"
   ]
  },
  {
   "cell_type": "code",
   "execution_count": 17,
   "metadata": {
    "collapsed": false
   },
   "outputs": [
    {
     "data": {
      "text/plain": [
       "u'<!doctype html>\\n<html>\\n    <head>\\n        <title>Suraj Shrestha</title>\\n        <link rel=\"stylesheet\" href=\"css/example.css\">\\n        <style type=\"text/css\">\\n            html, body {\\n                background: #222;\\n            }\\n        </style>\\n    </head>\\n    <body>\\n        <div id=\"container\"></div>\\n\\n\\t\\t<center>\\n        <header class=\"info\">\\n            <hgroup class=\"about\">\\n           <h1>Fine me on</h1>\\n            </hgroup>\\n            <nav class=\"more\">\\n\\t\\t\\t<a href=\"https://www.facebook.com/xcute.satanx\">Facebook</a>\\n\\t\\t\\t<a href=\"https://www.twitter.com/apollo17march\">Twitter</a>\\n\\n            </nav>\\n            <div>\\n            <img class=\"img-circle\" src=\"img/profile.jpg\">\\n          </div>\\n\\n        </header>\\n\\n\\t\\t</center>\\n        <script src=\"js/sketch.js\"></script>\\n        <script>\\n\\n        // ----------------------------------------\\n        // Particle\\n        // ----------------------------------------\\n\\n        function Particle( x, y, radius ) {\\n            this.init( x, y, radius );\\n        }\\n\\n        Particle.prototype = {\\n\\n            init: function( x, y, radius ) {\\n\\n                this.alive = true;\\n\\n                this.radius = radius || 10;\\n                this.wander = 0.15;\\n                this.theta = random( TWO_PI );\\n                this.drag = 0.92;\\n                this.color = \\'#fff\\';\\n\\n                this.x = x || 0.0;\\n                this.y = y || 0.0;\\n\\n                this.vx = 0.0;\\n                this.vy = 0.0;\\n            },\\n\\n            move: function() {\\n\\n                this.x += this.vx;\\n                this.y += this.vy;\\n\\n                this.vx *= this.drag;\\n                this.vy *= this.drag;\\n\\n                this.theta += random( -0.5, 0.5 ) * this.wander;\\n                this.vx += sin( this.theta ) * 0.1;\\n                this.vy += cos( this.theta ) * 0.1;\\n\\n                this.radius *= 0.96;\\n                this.alive = this.radius > 0.5;\\n            },\\n\\n            draw: function( ctx ) {\\n\\n                ctx.beginPath();\\n                ctx.arc( this.x, this.y, this.radius, 0, TWO_PI );\\n                ctx.fillStyle = this.color;\\n                ctx.fill();\\n            }\\n        };\\n\\n        // ----------------------------------------\\n        // Example\\n        // ----------------------------------------\\n\\n        var MAX_PARTICLES = 280;\\n        var COLOURS = [ \\'#69D2E7\\', \\'#A7DBD8\\', \\'#E0E4CC\\', \\'#F38630\\', \\'#FA6900\\', \\'#FF4E50\\', \\'#F9D423\\' ];\\n\\n        var particles = [];\\n        var pool = [];\\n\\n        var demo = Sketch.create({\\n            container: document.getElementById( \\'container\\' )\\n        });\\n\\n        demo.setup = function() {\\n\\n            // Set off some initial particles.\\n            var i, x, y;\\n\\n            for ( i = 0; i < 200; i++ ) {\\n                x = ( demo.width * 1 ) + random( -200, 200 );\\n                y = ( demo.height * 1 ) + random( -200, 200 );\\n                demo.spawn( x, y );\\n            }\\n        };\\n\\n        demo.spawn = function( x, y ) {\\n\\n            if ( particles.length >= MAX_PARTICLES )\\n                pool.push( particles.shift() );\\n\\n            particle = pool.length ? pool.pop() : new Particle();\\n            particle.init( x, y, random( 5, 40 ) );\\n\\n            particle.wander = random( 0.5, 2.0 );\\n            particle.color = random( COLOURS );\\n            particle.drag = random( 0.9, 0.99 );\\n\\n            theta = random( TWO_PI );\\n            force = random( 2, 8 );\\n\\n            particle.vx = sin( theta ) * force;\\n            particle.vy = cos( theta ) * force;\\n\\n            particles.push( particle );\\n        };\\n\\n        demo.update = function() {\\n\\n            var i, particle;\\n\\n            for ( i = particles.length - 1; i >= 0; i-- ) {\\n\\n                particle = particles[i];\\n\\n                if ( particle.alive ) particle.move();\\n                else pool.push( particles.splice( i, 1 )[0] );\\n            }\\n        };\\n\\n        demo.draw = function() {\\n\\n            demo.globalCompositeOperation  = \\'lighter\\';\\n\\n            for ( var i = particles.length - 1; i >= 0; i-- ) {\\n                particles[i].draw( demo );\\n            }\\n        };\\n\\n        demo.mousemove = function() {\\n\\n            var particle, theta, force, touch, max, i, j, n;\\n\\n            for ( i = 0, n = demo.touches.length; i < n; i++ ) {\\n\\n                touch = demo.touches[i], max = random( 1, 4 );\\n                for ( j = 0; j < max; j++ ) {\\n                  demo.spawn( touch.x, touch.y );\\n                }\\n\\n            }\\n        };\\n\\n        </script>\\n    </body>\\n</html>\\n'"
      ]
     },
     "execution_count": 17,
     "metadata": {},
     "output_type": "execute_result"
    }
   ],
   "source": [
    "a.text"
   ]
  },
  {
   "cell_type": "code",
   "execution_count": 19,
   "metadata": {
    "collapsed": true
   },
   "outputs": [],
   "source": [
    "import bs4"
   ]
  },
  {
   "cell_type": "code",
   "execution_count": 21,
   "metadata": {
    "collapsed": false
   },
   "outputs": [],
   "source": [
    "from bs4 import BeautifulSoup\n"
   ]
  },
  {
   "cell_type": "code",
   "execution_count": 23,
   "metadata": {
    "collapsed": false
   },
   "outputs": [],
   "source": [
    "soup=BeautifulSoup(a.text,'html.parser')"
   ]
  },
  {
   "cell_type": "code",
   "execution_count": 24,
   "metadata": {
    "collapsed": false
   },
   "outputs": [
    {
     "data": {
      "text/plain": [
       "['ASCII_SPACES',\n",
       " 'DEFAULT_BUILDER_FEATURES',\n",
       " 'HTML_FORMATTERS',\n",
       " 'NO_PARSER_SPECIFIED_WARNING',\n",
       " 'ROOT_TAG_NAME',\n",
       " 'XML_FORMATTERS',\n",
       " '__call__',\n",
       " '__class__',\n",
       " '__contains__',\n",
       " '__copy__',\n",
       " '__delattr__',\n",
       " '__delitem__',\n",
       " '__dict__',\n",
       " '__doc__',\n",
       " '__eq__',\n",
       " '__format__',\n",
       " '__getattr__',\n",
       " '__getattribute__',\n",
       " '__getitem__',\n",
       " '__getstate__',\n",
       " '__hash__',\n",
       " '__init__',\n",
       " '__iter__',\n",
       " '__len__',\n",
       " '__module__',\n",
       " '__ne__',\n",
       " '__new__',\n",
       " '__nonzero__',\n",
       " '__reduce__',\n",
       " '__reduce_ex__',\n",
       " '__repr__',\n",
       " '__setattr__',\n",
       " '__setitem__',\n",
       " '__sizeof__',\n",
       " '__str__',\n",
       " '__subclasshook__',\n",
       " '__unicode__',\n",
       " '__weakref__',\n",
       " '_all_strings',\n",
       " '_attr_value_as_string',\n",
       " '_attribute_checker',\n",
       " '_feed',\n",
       " '_find_all',\n",
       " '_find_one',\n",
       " '_formatter_for_name',\n",
       " '_is_xml',\n",
       " '_lastRecursiveChild',\n",
       " '_last_descendant',\n",
       " '_most_recent_element',\n",
       " '_popToTag',\n",
       " '_select_debug',\n",
       " '_selector_combinators',\n",
       " '_should_pretty_print',\n",
       " '_tag_name_matches_and',\n",
       " 'append',\n",
       " 'attribselect_re',\n",
       " 'attrs',\n",
       " 'builder',\n",
       " 'can_be_empty_element',\n",
       " 'childGenerator',\n",
       " 'children',\n",
       " 'clear',\n",
       " 'contains_replacement_characters',\n",
       " 'contents',\n",
       " 'currentTag',\n",
       " 'current_data',\n",
       " 'declared_html_encoding',\n",
       " 'decode',\n",
       " 'decode_contents',\n",
       " 'decompose',\n",
       " 'descendants',\n",
       " 'encode',\n",
       " 'encode_contents',\n",
       " 'endData',\n",
       " 'extract',\n",
       " 'fetchNextSiblings',\n",
       " 'fetchParents',\n",
       " 'fetchPrevious',\n",
       " 'fetchPreviousSiblings',\n",
       " 'find',\n",
       " 'findAll',\n",
       " 'findAllNext',\n",
       " 'findAllPrevious',\n",
       " 'findChild',\n",
       " 'findChildren',\n",
       " 'findNext',\n",
       " 'findNextSibling',\n",
       " 'findNextSiblings',\n",
       " 'findParent',\n",
       " 'findParents',\n",
       " 'findPrevious',\n",
       " 'findPreviousSibling',\n",
       " 'findPreviousSiblings',\n",
       " 'find_all',\n",
       " 'find_all_next',\n",
       " 'find_all_previous',\n",
       " 'find_next',\n",
       " 'find_next_sibling',\n",
       " 'find_next_siblings',\n",
       " 'find_parent',\n",
       " 'find_parents',\n",
       " 'find_previous',\n",
       " 'find_previous_sibling',\n",
       " 'find_previous_siblings',\n",
       " 'format_string',\n",
       " 'get',\n",
       " 'getText',\n",
       " 'get_text',\n",
       " 'handle_data',\n",
       " 'handle_endtag',\n",
       " 'handle_starttag',\n",
       " 'has_attr',\n",
       " 'has_key',\n",
       " 'hidden',\n",
       " 'index',\n",
       " 'insert',\n",
       " 'insert_after',\n",
       " 'insert_before',\n",
       " 'isSelfClosing',\n",
       " 'is_empty_element',\n",
       " 'is_xml',\n",
       " 'markup',\n",
       " 'name',\n",
       " 'namespace',\n",
       " 'new_string',\n",
       " 'new_tag',\n",
       " 'next',\n",
       " 'nextGenerator',\n",
       " 'nextSibling',\n",
       " 'nextSiblingGenerator',\n",
       " 'next_element',\n",
       " 'next_elements',\n",
       " 'next_sibling',\n",
       " 'next_siblings',\n",
       " 'object_was_parsed',\n",
       " 'original_encoding',\n",
       " 'parent',\n",
       " 'parentGenerator',\n",
       " 'parents',\n",
       " 'parse_only',\n",
       " 'parserClass',\n",
       " 'parser_class',\n",
       " 'popTag',\n",
       " 'prefix',\n",
       " 'preserve_whitespace_tag_stack',\n",
       " 'prettify',\n",
       " 'previous',\n",
       " 'previousGenerator',\n",
       " 'previousSibling',\n",
       " 'previousSiblingGenerator',\n",
       " 'previous_element',\n",
       " 'previous_elements',\n",
       " 'previous_sibling',\n",
       " 'previous_siblings',\n",
       " 'pushTag',\n",
       " 'recursiveChildGenerator',\n",
       " 'renderContents',\n",
       " 'replaceWith',\n",
       " 'replaceWithChildren',\n",
       " 'replace_with',\n",
       " 'replace_with_children',\n",
       " 'reset',\n",
       " 'select',\n",
       " 'select_one',\n",
       " 'setup',\n",
       " 'string',\n",
       " 'strings',\n",
       " 'stripped_strings',\n",
       " 'tagStack',\n",
       " 'tag_name_re',\n",
       " 'text',\n",
       " 'unwrap',\n",
       " 'wrap']"
      ]
     },
     "execution_count": 24,
     "metadata": {},
     "output_type": "execute_result"
    }
   ],
   "source": [
    "dir(soup)"
   ]
  },
  {
   "cell_type": "code",
   "execution_count": 25,
   "metadata": {
    "collapsed": false
   },
   "outputs": [
    {
     "data": {
      "text/plain": [
       "[<div id=\"container\"></div>,\n",
       " <div>\\n<img class=\"img-circle\" src=\"img/profile.jpg\">\\n</img></div>]"
      ]
     },
     "execution_count": 25,
     "metadata": {},
     "output_type": "execute_result"
    }
   ],
   "source": [
    "soup.find_all('div')"
   ]
  },
  {
   "cell_type": "code",
   "execution_count": 27,
   "metadata": {
    "collapsed": true
   },
   "outputs": [],
   "source": [
    "%matplotlib inline"
   ]
  },
  {
   "cell_type": "code",
   "execution_count": 31,
   "metadata": {
    "collapsed": true
   },
   "outputs": [],
   "source": [
    "import pylab"
   ]
  },
  {
   "cell_type": "code",
   "execution_count": 34,
   "metadata": {
    "collapsed": true
   },
   "outputs": [],
   "source": [
    "from pylab import *"
   ]
  },
  {
   "cell_type": "code",
   "execution_count": 35,
   "metadata": {
    "collapsed": false
   },
   "outputs": [
    {
     "data": {
      "text/plain": [
       "<matplotlib.figure.Figure at 0x7b74e80>"
      ]
     },
     "execution_count": 35,
     "metadata": {},
     "output_type": "execute_result"
    },
    {
     "data": {
      "text/plain": [
       "<matplotlib.figure.Figure at 0x7b74e80>"
      ]
     },
     "metadata": {},
     "output_type": "display_data"
    }
   ],
   "source": [
    "figure()"
   ]
  }
 ],
 "metadata": {
  "kernelspec": {
   "display_name": "Python 2",
   "language": "python",
   "name": "python2"
  },
  "language_info": {
   "codemirror_mode": {
    "name": "ipython",
    "version": 2
   },
   "file_extension": ".py",
   "mimetype": "text/x-python",
   "name": "python",
   "nbconvert_exporter": "python",
   "pygments_lexer": "ipython2",
   "version": "2.7.11"
  }
 },
 "nbformat": 4,
 "nbformat_minor": 0
}
