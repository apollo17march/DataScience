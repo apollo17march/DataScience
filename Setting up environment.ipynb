{
 "cells": [
  {
   "cell_type": "code",
   "execution_count": 10,
   "metadata": {
    "collapsed": false,
    "scrolled": true
   },
   "outputs": [
    {
     "name": "stdout",
     "output_type": "stream",
     "text": [
      "usage: conda-script.py [-h] [-V] [--debug] command ...\n",
      "\n",
      "conda is a tool for managing and deploying applications, environments and packages.\n",
      "\n",
      "Options:\n",
      "\n",
      "positional arguments:\n",
      "  command\n",
      "    info         Display information about current conda install.\n",
      "    help         Displays a list of available conda commands and their help\n",
      "                 strings.\n",
      "    list         List linked packages in a conda environment.\n",
      "    search       Search for packages and display their information. The input\n",
      "                 is a Python regular expression. To perform a search with a\n",
      "                 search string that starts with a -, separate the search from\n",
      "                 the options with --, like 'conda search -- -h'. A * in the\n",
      "                 results means that package is installed in the current\n",
      "                 environment. A . means that package is not installed but is\n",
      "                 cached in the pkgs directory.\n",
      "    create       Create a new conda environment from a list of specified\n",
      "                 packages.\n",
      "    install      Installs a list of packages into a specified conda\n",
      "                 environment.\n",
      "    update       Updates conda packages to the latest compatible version. This\n",
      "                 command accepts a list of package names and updates them to\n",
      "                 the latest versions that are compatible with all other\n",
      "                 packages in the environment. Conda attempts to install the\n",
      "                 newest versions of the requested packages. To accomplish\n",
      "                 this, it may update some packages that are already installed,\n",
      "                 or install additional packages. To prevent existing packages\n",
      "                 from updating, use the --no-update-deps option. This may\n",
      "                 force conda to install older versions of the requested\n",
      "                 packages, and it does not prevent additional dependency\n",
      "                 packages from being installed. If you wish to skip dependency\n",
      "                 checking altogether, use the '--force' option. This may\n",
      "                 result in an environment with incompatible packages, so this\n",
      "                 option must be used with great caution.\n",
      "    upgrade      Alias for conda update. See conda update --help.\n",
      "    remove       Remove a list of packages from a specified conda environment.\n",
      "    uninstall    Alias for conda remove. See conda remove --help.\n",
      "    run          Launches an application installed with conda. To include\n",
      "                 command line options in a command, separate the command from\n",
      "                 the other options with --, like conda run -- ipython\n",
      "                 --matplotlib\n",
      "    config       Modify configuration values in .condarc. This is modeled\n",
      "                 after the git config command. Writes to the user .condarc\n",
      "                 file (C:\\Users\\Vamps\\.condarc) by default.\n",
      "    init         Initialize conda into a regular environment (when conda was\n",
      "                 installed as a Python package, e.g. using pip). (DEPRECATED)\n",
      "    clean        Remove unused packages and caches.\n",
      "    package      Low-level conda package utility. (EXPERIMENTAL)\n",
      "    bundle       Create or extract a \"bundle package\" (EXPERIMENTAL)\n",
      "\n",
      "optional arguments:\n",
      "  -h, --help     Show this help message and exit.\n",
      "  -V, --version  Show the conda version number and exit.\n",
      "  --debug        Show debug output.\n"
     ]
    }
   ],
   "source": [
    "!conda --help"
   ]
  },
  {
   "cell_type": "code",
   "execution_count": 15,
   "metadata": {
    "collapsed": false,
    "scrolled": true
   },
   "outputs": [
    {
     "name": "stdout",
     "output_type": "stream",
     "text": [
      "Fetching package metadata: ....\n",
      "Solving package specifications: .........\n",
      "\n",
      "Package plan for installation in environment C:\\Users\\Vamps\\Anaconda2\\envs\\myenv:\n",
      "\n",
      "The following NEW packages will be INSTALLED:\n",
      "\n",
      "    pip:            8.1.2-py27_0  \n",
      "    python:         2.7.11-5      \n",
      "    setuptools:     23.0.0-py27_0 \n",
      "    vs2008_runtime: 9.00.30729.1-2\n",
      "    wheel:          0.29.0-py27_0 \n",
      "\n",
      "Linking packages ...\n",
      "[                    ]|                                                  |   0%\n",
      "[vs2008_runtime      ]|                                                  |   0%\n",
      "[python              ]|##########                                        |  20%\n",
      "[setuptools          ]|####################                              |  40%\n",
      "[wheel               ]|##############################                    |  60%\n",
      "[pip                 ]|########################################          |  80%\n",
      "[      COMPLETE      ]|##################################################| 100%\n",
      "\n",
      "#\n",
      "# To activate this environment, use:\n",
      "# > activate myenv\n",
      "#\n"
     ]
    },
    {
     "name": "stderr",
     "output_type": "stream",
     "text": [
      "Using Anaconda Cloud api site https://api.anaconda.org\n"
     ]
    }
   ],
   "source": [
    "!conda create -n myenv python -y"
   ]
  }
 ],
 "metadata": {
  "kernelspec": {
   "display_name": "Python 2",
   "language": "python",
   "name": "python2"
  },
  "language_info": {
   "codemirror_mode": {
    "name": "ipython",
    "version": 2
   },
   "file_extension": ".py",
   "mimetype": "text/x-python",
   "name": "python",
   "nbconvert_exporter": "python",
   "pygments_lexer": "ipython2",
   "version": "2.7.11"
  }
 },
 "nbformat": 4,
 "nbformat_minor": 0
}
