{
 "cells": [
  {
   "cell_type": "code",
   "execution_count": 1,
   "metadata": {
    "collapsed": false
   },
   "outputs": [],
   "source": [
    "import pandas as pd"
   ]
  },
  {
   "cell_type": "code",
   "execution_count": 2,
   "metadata": {
    "collapsed": true
   },
   "outputs": [],
   "source": [
    "import numpy as np"
   ]
  },
  {
   "cell_type": "code",
   "execution_count": 3,
   "metadata": {
    "collapsed": true
   },
   "outputs": [],
   "source": [
    "import matplotlib.pyplot as plt"
   ]
  },
  {
   "cell_type": "code",
   "execution_count": 4,
   "metadata": {
    "collapsed": true
   },
   "outputs": [],
   "source": [
    "#creating a series\n",
    "s= pd.Series([1,3,5,np.nan,6,8])\n"
   ]
  },
  {
   "cell_type": "code",
   "execution_count": 5,
   "metadata": {
    "collapsed": false
   },
   "outputs": [
    {
     "data": {
      "text/plain": [
       "0    1.0\n",
       "1    3.0\n",
       "2    5.0\n",
       "3    NaN\n",
       "4    6.0\n",
       "5    8.0\n",
       "dtype: float64"
      ]
     },
     "execution_count": 5,
     "metadata": {},
     "output_type": "execute_result"
    }
   ],
   "source": [
    "s"
   ]
  },
  {
   "cell_type": "code",
   "execution_count": 6,
   "metadata": {
    "collapsed": true
   },
   "outputs": [],
   "source": [
    "#creating a datetimeindex\n",
    "dates= pd.date_range('20130101',periods=6)"
   ]
  },
  {
   "cell_type": "code",
   "execution_count": 7,
   "metadata": {
    "collapsed": false
   },
   "outputs": [
    {
     "data": {
      "text/plain": [
       "DatetimeIndex(['2013-01-01', '2013-01-02', '2013-01-03', '2013-01-04',\n",
       "               '2013-01-05', '2013-01-06'],\n",
       "              dtype='datetime64[ns]', freq='D')"
      ]
     },
     "execution_count": 7,
     "metadata": {},
     "output_type": "execute_result"
    }
   ],
   "source": [
    "dates"
   ]
  },
  {
   "cell_type": "code",
   "execution_count": 11,
   "metadata": {
    "collapsed": true
   },
   "outputs": [],
   "source": [
    "#creating a dataframe\n",
    "df=pd.DataFrame(np.random.randn(6,4), index=dates,columns=list('ABCD'))"
   ]
  },
  {
   "cell_type": "code",
   "execution_count": 12,
   "metadata": {
    "collapsed": false
   },
   "outputs": [
    {
     "data": {
      "text/html": [
       "<div>\n",
       "<table border=\"1\" class=\"dataframe\">\n",
       "  <thead>\n",
       "    <tr style=\"text-align: right;\">\n",
       "      <th></th>\n",
       "      <th>A</th>\n",
       "      <th>B</th>\n",
       "      <th>C</th>\n",
       "      <th>D</th>\n",
       "    </tr>\n",
       "  </thead>\n",
       "  <tbody>\n",
       "    <tr>\n",
       "      <th>2013-01-01</th>\n",
       "      <td>0.055467</td>\n",
       "      <td>0.254797</td>\n",
       "      <td>1.014666</td>\n",
       "      <td>-0.568205</td>\n",
       "    </tr>\n",
       "    <tr>\n",
       "      <th>2013-01-02</th>\n",
       "      <td>0.026208</td>\n",
       "      <td>0.286309</td>\n",
       "      <td>0.791769</td>\n",
       "      <td>0.632645</td>\n",
       "    </tr>\n",
       "    <tr>\n",
       "      <th>2013-01-03</th>\n",
       "      <td>-0.478855</td>\n",
       "      <td>-0.494815</td>\n",
       "      <td>1.049331</td>\n",
       "      <td>-0.965749</td>\n",
       "    </tr>\n",
       "    <tr>\n",
       "      <th>2013-01-04</th>\n",
       "      <td>1.736059</td>\n",
       "      <td>0.738772</td>\n",
       "      <td>0.855504</td>\n",
       "      <td>-0.134949</td>\n",
       "    </tr>\n",
       "    <tr>\n",
       "      <th>2013-01-05</th>\n",
       "      <td>1.456126</td>\n",
       "      <td>0.812846</td>\n",
       "      <td>-0.550241</td>\n",
       "      <td>0.029472</td>\n",
       "    </tr>\n",
       "    <tr>\n",
       "      <th>2013-01-06</th>\n",
       "      <td>0.135197</td>\n",
       "      <td>-1.169044</td>\n",
       "      <td>-0.054769</td>\n",
       "      <td>1.257826</td>\n",
       "    </tr>\n",
       "  </tbody>\n",
       "</table>\n",
       "</div>"
      ],
      "text/plain": [
       "                   A         B         C         D\n",
       "2013-01-01  0.055467  0.254797  1.014666 -0.568205\n",
       "2013-01-02  0.026208  0.286309  0.791769  0.632645\n",
       "2013-01-03 -0.478855 -0.494815  1.049331 -0.965749\n",
       "2013-01-04  1.736059  0.738772  0.855504 -0.134949\n",
       "2013-01-05  1.456126  0.812846 -0.550241  0.029472\n",
       "2013-01-06  0.135197 -1.169044 -0.054769  1.257826"
      ]
     },
     "execution_count": 12,
     "metadata": {},
     "output_type": "execute_result"
    }
   ],
   "source": [
    "df"
   ]
  },
  {
   "cell_type": "code",
   "execution_count": 15,
   "metadata": {
    "collapsed": false
   },
   "outputs": [
    {
     "data": {
      "text/plain": [
       "A    float64\n",
       "B    float64\n",
       "C    float64\n",
       "D    float64\n",
       "dtype: object"
      ]
     },
     "execution_count": 15,
     "metadata": {},
     "output_type": "execute_result"
    }
   ],
   "source": [
    "df.dtypes"
   ]
  },
  {
   "cell_type": "code",
   "execution_count": 13,
   "metadata": {
    "collapsed": true
   },
   "outputs": [],
   "source": [
    "dataf=pd.DataFrame(np.random.randn(10,10),index=list('ABCDEFGHIJ'),columns=list('ZYXWVUTSRQ'))"
   ]
  },
  {
   "cell_type": "code",
   "execution_count": 14,
   "metadata": {
    "collapsed": false
   },
   "outputs": [
    {
     "data": {
      "text/html": [
       "<div>\n",
       "<table border=\"1\" class=\"dataframe\">\n",
       "  <thead>\n",
       "    <tr style=\"text-align: right;\">\n",
       "      <th></th>\n",
       "      <th>Z</th>\n",
       "      <th>Y</th>\n",
       "      <th>X</th>\n",
       "      <th>W</th>\n",
       "      <th>V</th>\n",
       "      <th>U</th>\n",
       "      <th>T</th>\n",
       "      <th>S</th>\n",
       "      <th>R</th>\n",
       "      <th>Q</th>\n",
       "    </tr>\n",
       "  </thead>\n",
       "  <tbody>\n",
       "    <tr>\n",
       "      <th>A</th>\n",
       "      <td>-0.678178</td>\n",
       "      <td>-1.179217</td>\n",
       "      <td>-0.832261</td>\n",
       "      <td>0.317049</td>\n",
       "      <td>0.333829</td>\n",
       "      <td>0.646704</td>\n",
       "      <td>-1.278350</td>\n",
       "      <td>0.727375</td>\n",
       "      <td>0.658696</td>\n",
       "      <td>0.655941</td>\n",
       "    </tr>\n",
       "    <tr>\n",
       "      <th>B</th>\n",
       "      <td>-1.018008</td>\n",
       "      <td>-0.375658</td>\n",
       "      <td>0.927035</td>\n",
       "      <td>1.986482</td>\n",
       "      <td>-2.010970</td>\n",
       "      <td>1.177631</td>\n",
       "      <td>-0.231346</td>\n",
       "      <td>1.594217</td>\n",
       "      <td>-0.551451</td>\n",
       "      <td>-0.476130</td>\n",
       "    </tr>\n",
       "    <tr>\n",
       "      <th>C</th>\n",
       "      <td>-1.329164</td>\n",
       "      <td>-0.052103</td>\n",
       "      <td>-1.185284</td>\n",
       "      <td>0.179160</td>\n",
       "      <td>0.342166</td>\n",
       "      <td>1.318341</td>\n",
       "      <td>-1.602868</td>\n",
       "      <td>0.273928</td>\n",
       "      <td>-1.101559</td>\n",
       "      <td>0.462565</td>\n",
       "    </tr>\n",
       "    <tr>\n",
       "      <th>D</th>\n",
       "      <td>0.661842</td>\n",
       "      <td>0.381549</td>\n",
       "      <td>0.653526</td>\n",
       "      <td>-0.232852</td>\n",
       "      <td>1.369009</td>\n",
       "      <td>0.265987</td>\n",
       "      <td>0.100297</td>\n",
       "      <td>-0.018414</td>\n",
       "      <td>1.747002</td>\n",
       "      <td>1.036457</td>\n",
       "    </tr>\n",
       "    <tr>\n",
       "      <th>E</th>\n",
       "      <td>-0.260208</td>\n",
       "      <td>0.557973</td>\n",
       "      <td>-0.171838</td>\n",
       "      <td>0.914446</td>\n",
       "      <td>1.172085</td>\n",
       "      <td>-0.748644</td>\n",
       "      <td>1.410023</td>\n",
       "      <td>-1.263522</td>\n",
       "      <td>-1.155404</td>\n",
       "      <td>1.146448</td>\n",
       "    </tr>\n",
       "    <tr>\n",
       "      <th>F</th>\n",
       "      <td>-0.465027</td>\n",
       "      <td>0.432223</td>\n",
       "      <td>0.208547</td>\n",
       "      <td>1.452818</td>\n",
       "      <td>-0.908976</td>\n",
       "      <td>-0.247977</td>\n",
       "      <td>-0.046099</td>\n",
       "      <td>0.647726</td>\n",
       "      <td>-0.095909</td>\n",
       "      <td>-1.218171</td>\n",
       "    </tr>\n",
       "    <tr>\n",
       "      <th>G</th>\n",
       "      <td>1.170410</td>\n",
       "      <td>-1.564688</td>\n",
       "      <td>-0.560723</td>\n",
       "      <td>-0.333898</td>\n",
       "      <td>0.672945</td>\n",
       "      <td>-0.053408</td>\n",
       "      <td>-1.335530</td>\n",
       "      <td>-2.029085</td>\n",
       "      <td>-0.050621</td>\n",
       "      <td>1.127726</td>\n",
       "    </tr>\n",
       "    <tr>\n",
       "      <th>H</th>\n",
       "      <td>-0.963714</td>\n",
       "      <td>-1.464996</td>\n",
       "      <td>0.379496</td>\n",
       "      <td>-0.740839</td>\n",
       "      <td>0.661005</td>\n",
       "      <td>0.344728</td>\n",
       "      <td>1.842682</td>\n",
       "      <td>-1.791272</td>\n",
       "      <td>1.615113</td>\n",
       "      <td>0.770192</td>\n",
       "    </tr>\n",
       "    <tr>\n",
       "      <th>I</th>\n",
       "      <td>-0.205297</td>\n",
       "      <td>-1.873181</td>\n",
       "      <td>-0.270596</td>\n",
       "      <td>-1.706149</td>\n",
       "      <td>-0.935400</td>\n",
       "      <td>0.876031</td>\n",
       "      <td>0.792853</td>\n",
       "      <td>0.474477</td>\n",
       "      <td>-1.157093</td>\n",
       "      <td>0.834911</td>\n",
       "    </tr>\n",
       "    <tr>\n",
       "      <th>J</th>\n",
       "      <td>1.765216</td>\n",
       "      <td>0.435277</td>\n",
       "      <td>-0.616425</td>\n",
       "      <td>0.501529</td>\n",
       "      <td>0.410758</td>\n",
       "      <td>-0.864610</td>\n",
       "      <td>0.556475</td>\n",
       "      <td>-0.130643</td>\n",
       "      <td>0.400902</td>\n",
       "      <td>0.494786</td>\n",
       "    </tr>\n",
       "  </tbody>\n",
       "</table>\n",
       "</div>"
      ],
      "text/plain": [
       "          Z         Y         X         W         V         U         T  \\\n",
       "A -0.678178 -1.179217 -0.832261  0.317049  0.333829  0.646704 -1.278350   \n",
       "B -1.018008 -0.375658  0.927035  1.986482 -2.010970  1.177631 -0.231346   \n",
       "C -1.329164 -0.052103 -1.185284  0.179160  0.342166  1.318341 -1.602868   \n",
       "D  0.661842  0.381549  0.653526 -0.232852  1.369009  0.265987  0.100297   \n",
       "E -0.260208  0.557973 -0.171838  0.914446  1.172085 -0.748644  1.410023   \n",
       "F -0.465027  0.432223  0.208547  1.452818 -0.908976 -0.247977 -0.046099   \n",
       "G  1.170410 -1.564688 -0.560723 -0.333898  0.672945 -0.053408 -1.335530   \n",
       "H -0.963714 -1.464996  0.379496 -0.740839  0.661005  0.344728  1.842682   \n",
       "I -0.205297 -1.873181 -0.270596 -1.706149 -0.935400  0.876031  0.792853   \n",
       "J  1.765216  0.435277 -0.616425  0.501529  0.410758 -0.864610  0.556475   \n",
       "\n",
       "          S         R         Q  \n",
       "A  0.727375  0.658696  0.655941  \n",
       "B  1.594217 -0.551451 -0.476130  \n",
       "C  0.273928 -1.101559  0.462565  \n",
       "D -0.018414  1.747002  1.036457  \n",
       "E -1.263522 -1.155404  1.146448  \n",
       "F  0.647726 -0.095909 -1.218171  \n",
       "G -2.029085 -0.050621  1.127726  \n",
       "H -1.791272  1.615113  0.770192  \n",
       "I  0.474477 -1.157093  0.834911  \n",
       "J -0.130643  0.400902  0.494786  "
      ]
     },
     "execution_count": 14,
     "metadata": {},
     "output_type": "execute_result"
    }
   ],
   "source": [
    "dataf"
   ]
  },
  {
   "cell_type": "code",
   "execution_count": 16,
   "metadata": {
    "collapsed": true
   },
   "outputs": [],
   "source": [
    "df2=pd.DataFrame({'A':1.,\n",
    "                  'B':pd.Timestamp('20130102'),\n",
    "                  'C':pd.Series(1,index=list(range(4)),dtype='float32'),\n",
    "                  'D':np.array([3]*4,dtype='int32'),\n",
    "                  'E':pd.Categorical([\"test\",\"train\",\"test\",\"train\"]),\n",
    "                  'F':'foo'})"
   ]
  },
  {
   "cell_type": "code",
   "execution_count": 17,
   "metadata": {
    "collapsed": false
   },
   "outputs": [
    {
     "data": {
      "text/html": [
       "<div>\n",
       "<table border=\"1\" class=\"dataframe\">\n",
       "  <thead>\n",
       "    <tr style=\"text-align: right;\">\n",
       "      <th></th>\n",
       "      <th>A</th>\n",
       "      <th>B</th>\n",
       "      <th>C</th>\n",
       "      <th>D</th>\n",
       "      <th>E</th>\n",
       "      <th>F</th>\n",
       "    </tr>\n",
       "  </thead>\n",
       "  <tbody>\n",
       "    <tr>\n",
       "      <th>0</th>\n",
       "      <td>1.0</td>\n",
       "      <td>2013-01-02</td>\n",
       "      <td>1.0</td>\n",
       "      <td>3</td>\n",
       "      <td>test</td>\n",
       "      <td>foo</td>\n",
       "    </tr>\n",
       "    <tr>\n",
       "      <th>1</th>\n",
       "      <td>1.0</td>\n",
       "      <td>2013-01-02</td>\n",
       "      <td>1.0</td>\n",
       "      <td>3</td>\n",
       "      <td>train</td>\n",
       "      <td>foo</td>\n",
       "    </tr>\n",
       "    <tr>\n",
       "      <th>2</th>\n",
       "      <td>1.0</td>\n",
       "      <td>2013-01-02</td>\n",
       "      <td>1.0</td>\n",
       "      <td>3</td>\n",
       "      <td>test</td>\n",
       "      <td>foo</td>\n",
       "    </tr>\n",
       "    <tr>\n",
       "      <th>3</th>\n",
       "      <td>1.0</td>\n",
       "      <td>2013-01-02</td>\n",
       "      <td>1.0</td>\n",
       "      <td>3</td>\n",
       "      <td>train</td>\n",
       "      <td>foo</td>\n",
       "    </tr>\n",
       "  </tbody>\n",
       "</table>\n",
       "</div>"
      ],
      "text/plain": [
       "     A          B    C  D      E    F\n",
       "0  1.0 2013-01-02  1.0  3   test  foo\n",
       "1  1.0 2013-01-02  1.0  3  train  foo\n",
       "2  1.0 2013-01-02  1.0  3   test  foo\n",
       "3  1.0 2013-01-02  1.0  3  train  foo"
      ]
     },
     "execution_count": 17,
     "metadata": {},
     "output_type": "execute_result"
    }
   ],
   "source": [
    "df2"
   ]
  },
  {
   "cell_type": "code",
   "execution_count": 18,
   "metadata": {
    "collapsed": false
   },
   "outputs": [
    {
     "data": {
      "text/plain": [
       "A           float64\n",
       "B    datetime64[ns]\n",
       "C           float32\n",
       "D             int32\n",
       "E          category\n",
       "F            object\n",
       "dtype: object"
      ]
     },
     "execution_count": 18,
     "metadata": {},
     "output_type": "execute_result"
    }
   ],
   "source": [
    "df2.dtypes"
   ]
  },
  {
   "cell_type": "code",
   "execution_count": 21,
   "metadata": {
    "collapsed": false
   },
   "outputs": [
    {
     "data": {
      "text/html": [
       "<div>\n",
       "<table border=\"1\" class=\"dataframe\">\n",
       "  <thead>\n",
       "    <tr style=\"text-align: right;\">\n",
       "      <th></th>\n",
       "      <th>Z</th>\n",
       "      <th>Y</th>\n",
       "      <th>X</th>\n",
       "      <th>W</th>\n",
       "      <th>V</th>\n",
       "      <th>U</th>\n",
       "      <th>T</th>\n",
       "      <th>S</th>\n",
       "      <th>R</th>\n",
       "      <th>Q</th>\n",
       "    </tr>\n",
       "  </thead>\n",
       "  <tbody>\n",
       "    <tr>\n",
       "      <th>A</th>\n",
       "      <td>-0.678178</td>\n",
       "      <td>-1.179217</td>\n",
       "      <td>-0.832261</td>\n",
       "      <td>0.317049</td>\n",
       "      <td>0.333829</td>\n",
       "      <td>0.646704</td>\n",
       "      <td>-1.278350</td>\n",
       "      <td>0.727375</td>\n",
       "      <td>0.658696</td>\n",
       "      <td>0.655941</td>\n",
       "    </tr>\n",
       "    <tr>\n",
       "      <th>B</th>\n",
       "      <td>-1.018008</td>\n",
       "      <td>-0.375658</td>\n",
       "      <td>0.927035</td>\n",
       "      <td>1.986482</td>\n",
       "      <td>-2.010970</td>\n",
       "      <td>1.177631</td>\n",
       "      <td>-0.231346</td>\n",
       "      <td>1.594217</td>\n",
       "      <td>-0.551451</td>\n",
       "      <td>-0.476130</td>\n",
       "    </tr>\n",
       "    <tr>\n",
       "      <th>C</th>\n",
       "      <td>-1.329164</td>\n",
       "      <td>-0.052103</td>\n",
       "      <td>-1.185284</td>\n",
       "      <td>0.179160</td>\n",
       "      <td>0.342166</td>\n",
       "      <td>1.318341</td>\n",
       "      <td>-1.602868</td>\n",
       "      <td>0.273928</td>\n",
       "      <td>-1.101559</td>\n",
       "      <td>0.462565</td>\n",
       "    </tr>\n",
       "    <tr>\n",
       "      <th>D</th>\n",
       "      <td>0.661842</td>\n",
       "      <td>0.381549</td>\n",
       "      <td>0.653526</td>\n",
       "      <td>-0.232852</td>\n",
       "      <td>1.369009</td>\n",
       "      <td>0.265987</td>\n",
       "      <td>0.100297</td>\n",
       "      <td>-0.018414</td>\n",
       "      <td>1.747002</td>\n",
       "      <td>1.036457</td>\n",
       "    </tr>\n",
       "    <tr>\n",
       "      <th>E</th>\n",
       "      <td>-0.260208</td>\n",
       "      <td>0.557973</td>\n",
       "      <td>-0.171838</td>\n",
       "      <td>0.914446</td>\n",
       "      <td>1.172085</td>\n",
       "      <td>-0.748644</td>\n",
       "      <td>1.410023</td>\n",
       "      <td>-1.263522</td>\n",
       "      <td>-1.155404</td>\n",
       "      <td>1.146448</td>\n",
       "    </tr>\n",
       "  </tbody>\n",
       "</table>\n",
       "</div>"
      ],
      "text/plain": [
       "          Z         Y         X         W         V         U         T  \\\n",
       "A -0.678178 -1.179217 -0.832261  0.317049  0.333829  0.646704 -1.278350   \n",
       "B -1.018008 -0.375658  0.927035  1.986482 -2.010970  1.177631 -0.231346   \n",
       "C -1.329164 -0.052103 -1.185284  0.179160  0.342166  1.318341 -1.602868   \n",
       "D  0.661842  0.381549  0.653526 -0.232852  1.369009  0.265987  0.100297   \n",
       "E -0.260208  0.557973 -0.171838  0.914446  1.172085 -0.748644  1.410023   \n",
       "\n",
       "          S         R         Q  \n",
       "A  0.727375  0.658696  0.655941  \n",
       "B  1.594217 -0.551451 -0.476130  \n",
       "C  0.273928 -1.101559  0.462565  \n",
       "D -0.018414  1.747002  1.036457  \n",
       "E -1.263522 -1.155404  1.146448  "
      ]
     },
     "execution_count": 21,
     "metadata": {},
     "output_type": "execute_result"
    }
   ],
   "source": [
    "dataf.head()"
   ]
  },
  {
   "cell_type": "code",
   "execution_count": 22,
   "metadata": {
    "collapsed": false
   },
   "outputs": [
    {
     "data": {
      "text/html": [
       "<div>\n",
       "<table border=\"1\" class=\"dataframe\">\n",
       "  <thead>\n",
       "    <tr style=\"text-align: right;\">\n",
       "      <th></th>\n",
       "      <th>Z</th>\n",
       "      <th>Y</th>\n",
       "      <th>X</th>\n",
       "      <th>W</th>\n",
       "      <th>V</th>\n",
       "      <th>U</th>\n",
       "      <th>T</th>\n",
       "      <th>S</th>\n",
       "      <th>R</th>\n",
       "      <th>Q</th>\n",
       "    </tr>\n",
       "  </thead>\n",
       "  <tbody>\n",
       "    <tr>\n",
       "      <th>F</th>\n",
       "      <td>-0.465027</td>\n",
       "      <td>0.432223</td>\n",
       "      <td>0.208547</td>\n",
       "      <td>1.452818</td>\n",
       "      <td>-0.908976</td>\n",
       "      <td>-0.247977</td>\n",
       "      <td>-0.046099</td>\n",
       "      <td>0.647726</td>\n",
       "      <td>-0.095909</td>\n",
       "      <td>-1.218171</td>\n",
       "    </tr>\n",
       "    <tr>\n",
       "      <th>G</th>\n",
       "      <td>1.170410</td>\n",
       "      <td>-1.564688</td>\n",
       "      <td>-0.560723</td>\n",
       "      <td>-0.333898</td>\n",
       "      <td>0.672945</td>\n",
       "      <td>-0.053408</td>\n",
       "      <td>-1.335530</td>\n",
       "      <td>-2.029085</td>\n",
       "      <td>-0.050621</td>\n",
       "      <td>1.127726</td>\n",
       "    </tr>\n",
       "    <tr>\n",
       "      <th>H</th>\n",
       "      <td>-0.963714</td>\n",
       "      <td>-1.464996</td>\n",
       "      <td>0.379496</td>\n",
       "      <td>-0.740839</td>\n",
       "      <td>0.661005</td>\n",
       "      <td>0.344728</td>\n",
       "      <td>1.842682</td>\n",
       "      <td>-1.791272</td>\n",
       "      <td>1.615113</td>\n",
       "      <td>0.770192</td>\n",
       "    </tr>\n",
       "    <tr>\n",
       "      <th>I</th>\n",
       "      <td>-0.205297</td>\n",
       "      <td>-1.873181</td>\n",
       "      <td>-0.270596</td>\n",
       "      <td>-1.706149</td>\n",
       "      <td>-0.935400</td>\n",
       "      <td>0.876031</td>\n",
       "      <td>0.792853</td>\n",
       "      <td>0.474477</td>\n",
       "      <td>-1.157093</td>\n",
       "      <td>0.834911</td>\n",
       "    </tr>\n",
       "    <tr>\n",
       "      <th>J</th>\n",
       "      <td>1.765216</td>\n",
       "      <td>0.435277</td>\n",
       "      <td>-0.616425</td>\n",
       "      <td>0.501529</td>\n",
       "      <td>0.410758</td>\n",
       "      <td>-0.864610</td>\n",
       "      <td>0.556475</td>\n",
       "      <td>-0.130643</td>\n",
       "      <td>0.400902</td>\n",
       "      <td>0.494786</td>\n",
       "    </tr>\n",
       "  </tbody>\n",
       "</table>\n",
       "</div>"
      ],
      "text/plain": [
       "          Z         Y         X         W         V         U         T  \\\n",
       "F -0.465027  0.432223  0.208547  1.452818 -0.908976 -0.247977 -0.046099   \n",
       "G  1.170410 -1.564688 -0.560723 -0.333898  0.672945 -0.053408 -1.335530   \n",
       "H -0.963714 -1.464996  0.379496 -0.740839  0.661005  0.344728  1.842682   \n",
       "I -0.205297 -1.873181 -0.270596 -1.706149 -0.935400  0.876031  0.792853   \n",
       "J  1.765216  0.435277 -0.616425  0.501529  0.410758 -0.864610  0.556475   \n",
       "\n",
       "          S         R         Q  \n",
       "F  0.647726 -0.095909 -1.218171  \n",
       "G -2.029085 -0.050621  1.127726  \n",
       "H -1.791272  1.615113  0.770192  \n",
       "I  0.474477 -1.157093  0.834911  \n",
       "J -0.130643  0.400902  0.494786  "
      ]
     },
     "execution_count": 22,
     "metadata": {},
     "output_type": "execute_result"
    }
   ],
   "source": [
    "dataf.tail()"
   ]
  },
  {
   "cell_type": "code",
   "execution_count": 25,
   "metadata": {
    "collapsed": false
   },
   "outputs": [
    {
     "data": {
      "text/plain": [
       "Index([u'A', u'B', u'C', u'D', u'E', u'F', u'G', u'H', u'I', u'J'], dtype='object')"
      ]
     },
     "execution_count": 25,
     "metadata": {},
     "output_type": "execute_result"
    }
   ],
   "source": [
    "dataf.index"
   ]
  },
  {
   "cell_type": "code",
   "execution_count": 33,
   "metadata": {
    "collapsed": false
   },
   "outputs": [
    {
     "data": {
      "text/html": [
       "<div>\n",
       "<table border=\"1\" class=\"dataframe\">\n",
       "  <thead>\n",
       "    <tr style=\"text-align: right;\">\n",
       "      <th></th>\n",
       "      <th>A</th>\n",
       "      <th>C</th>\n",
       "      <th>D</th>\n",
       "    </tr>\n",
       "  </thead>\n",
       "  <tbody>\n",
       "    <tr>\n",
       "      <th>count</th>\n",
       "      <td>4.0</td>\n",
       "      <td>4.0</td>\n",
       "      <td>4.0</td>\n",
       "    </tr>\n",
       "    <tr>\n",
       "      <th>mean</th>\n",
       "      <td>1.0</td>\n",
       "      <td>1.0</td>\n",
       "      <td>3.0</td>\n",
       "    </tr>\n",
       "    <tr>\n",
       "      <th>std</th>\n",
       "      <td>0.0</td>\n",
       "      <td>0.0</td>\n",
       "      <td>0.0</td>\n",
       "    </tr>\n",
       "    <tr>\n",
       "      <th>min</th>\n",
       "      <td>1.0</td>\n",
       "      <td>1.0</td>\n",
       "      <td>3.0</td>\n",
       "    </tr>\n",
       "    <tr>\n",
       "      <th>25%</th>\n",
       "      <td>1.0</td>\n",
       "      <td>1.0</td>\n",
       "      <td>3.0</td>\n",
       "    </tr>\n",
       "    <tr>\n",
       "      <th>50%</th>\n",
       "      <td>1.0</td>\n",
       "      <td>1.0</td>\n",
       "      <td>3.0</td>\n",
       "    </tr>\n",
       "    <tr>\n",
       "      <th>75%</th>\n",
       "      <td>1.0</td>\n",
       "      <td>1.0</td>\n",
       "      <td>3.0</td>\n",
       "    </tr>\n",
       "    <tr>\n",
       "      <th>max</th>\n",
       "      <td>1.0</td>\n",
       "      <td>1.0</td>\n",
       "      <td>3.0</td>\n",
       "    </tr>\n",
       "  </tbody>\n",
       "</table>\n",
       "</div>"
      ],
      "text/plain": [
       "         A    C    D\n",
       "count  4.0  4.0  4.0\n",
       "mean   1.0  1.0  3.0\n",
       "std    0.0  0.0  0.0\n",
       "min    1.0  1.0  3.0\n",
       "25%    1.0  1.0  3.0\n",
       "50%    1.0  1.0  3.0\n",
       "75%    1.0  1.0  3.0\n",
       "max    1.0  1.0  3.0"
      ]
     },
     "execution_count": 33,
     "metadata": {},
     "output_type": "execute_result"
    }
   ],
   "source": [
    "df2.describe()"
   ]
  },
  {
   "cell_type": "code",
   "execution_count": 43,
   "metadata": {
    "collapsed": false
   },
   "outputs": [
    {
     "data": {
      "text/html": [
       "<div>\n",
       "<table border=\"1\" class=\"dataframe\">\n",
       "  <thead>\n",
       "    <tr style=\"text-align: right;\">\n",
       "      <th></th>\n",
       "      <th>A</th>\n",
       "      <th>B</th>\n",
       "      <th>C</th>\n",
       "      <th>D</th>\n",
       "      <th>E</th>\n",
       "      <th>F</th>\n",
       "    </tr>\n",
       "  </thead>\n",
       "  <tbody>\n",
       "    <tr>\n",
       "      <th>1</th>\n",
       "      <td>1.0</td>\n",
       "      <td>2013-01-02</td>\n",
       "      <td>1.0</td>\n",
       "      <td>3</td>\n",
       "      <td>train</td>\n",
       "      <td>foo</td>\n",
       "    </tr>\n",
       "    <tr>\n",
       "      <th>2</th>\n",
       "      <td>1.0</td>\n",
       "      <td>2013-01-02</td>\n",
       "      <td>1.0</td>\n",
       "      <td>3</td>\n",
       "      <td>test</td>\n",
       "      <td>foo</td>\n",
       "    </tr>\n",
       "    <tr>\n",
       "      <th>3</th>\n",
       "      <td>1.0</td>\n",
       "      <td>2013-01-02</td>\n",
       "      <td>1.0</td>\n",
       "      <td>3</td>\n",
       "      <td>train</td>\n",
       "      <td>foo</td>\n",
       "    </tr>\n",
       "  </tbody>\n",
       "</table>\n",
       "</div>"
      ],
      "text/plain": [
       "     A          B    C  D      E    F\n",
       "1  1.0 2013-01-02  1.0  3  train  foo\n",
       "2  1.0 2013-01-02  1.0  3   test  foo\n",
       "3  1.0 2013-01-02  1.0  3  train  foo"
      ]
     },
     "execution_count": 43,
     "metadata": {},
     "output_type": "execute_result"
    }
   ],
   "source": [
    "df2.loc[1:]"
   ]
  }
 ],
 "metadata": {
  "kernelspec": {
   "display_name": "Python 2",
   "language": "python",
   "name": "python2"
  },
  "language_info": {
   "codemirror_mode": {
    "name": "ipython",
    "version": 2
   },
   "file_extension": ".py",
   "mimetype": "text/x-python",
   "name": "python",
   "nbconvert_exporter": "python",
   "pygments_lexer": "ipython2",
   "version": "2.7.12"
  }
 },
 "nbformat": 4,
 "nbformat_minor": 0
}
